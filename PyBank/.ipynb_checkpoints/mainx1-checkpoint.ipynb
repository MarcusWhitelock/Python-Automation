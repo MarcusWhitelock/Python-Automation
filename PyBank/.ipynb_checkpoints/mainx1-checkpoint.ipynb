{
 "cells": [
  {
   "cell_type": "code",
   "execution_count": null,
   "id": "d7de88ee-ddc6-458e-92d8-8a662cc3f569",
   "metadata": {
    "tags": []
   },
   "outputs": [],
   "source": [
    "'''\n",
    "The goal of this code is to open and analyse a csv file with company accountant records.\n",
    "Will be openeing and reading file \n",
    "and the analysing and writing to a new .txt file\n",
    "'''"
   ]
  },
  {
   "cell_type": "code",
   "execution_count": 13,
   "id": "52e90109-19b5-4c4f-81ff-45cb1d540a88",
   "metadata": {},
   "outputs": [
    {
     "name": "stdout",
     "output_type": "stream",
     "text": [
      "Current Working Directory: C:\\Users\\xElio\\Desktop\\FinTech\\Week2\\Homework\\python-homework\\PyBank\n"
     ]
    }
   ],
   "source": [
    "# Importing the path \n",
    "from pathlib import Path\n",
    "print(f\"Current Working Directory: {Path.cwd()}\")"
   ]
  },
  {
   "cell_type": "code",
   "execution_count": 68,
   "id": "fab2d3b9-4314-4bd8-a350-3a0c63894d33",
   "metadata": {},
   "outputs": [],
   "source": [
    "# Setting the path using Pathlib\n",
    "company_data = Path(\"../Pybank/budget_data.csv\")"
   ]
  },
  {
   "cell_type": "code",
   "execution_count": 65,
   "id": "565bdcc1-af24-4629-8c5b-b255514533a1",
   "metadata": {},
   "outputs": [],
   "source": [
    "# Initialising variables\n",
    "total_months = 0\n",
    "net_total = 0\n",
    "Avg_change_pl = 0\n",
    "greatest_increase_profits = 0\n",
    "greatest_decrease_losses = 0\n",
    "num_row = 0"
   ]
  },
  {
   "cell_type": "code",
   "execution_count": 69,
   "id": "a765c6e5-fc07-44f9-bf2b-d70ee5cd462c",
   "metadata": {
    "tags": []
   },
   "outputs": [
    {
     "ename": "ValueError",
     "evalue": "invalid literal for int() with base 10: 'Date,Profit/Losses\\n'",
     "output_type": "error",
     "traceback": [
      "\u001b[1;31m---------------------------------------------------------------------------\u001b[0m",
      "\u001b[1;31mValueError\u001b[0m                                Traceback (most recent call last)",
      "\u001b[1;32m<ipython-input-69-c5f561cbe61f>\u001b[0m in \u001b[0;36m<module>\u001b[1;34m\u001b[0m\n\u001b[0;32m      3\u001b[0m     \u001b[1;32mfor\u001b[0m \u001b[0mline\u001b[0m \u001b[1;32min\u001b[0m \u001b[0mcompany_data\u001b[0m\u001b[1;33m:\u001b[0m\u001b[1;33m\u001b[0m\u001b[1;33m\u001b[0m\u001b[0m\n\u001b[0;32m      4\u001b[0m \u001b[1;31m# Making str an int\u001b[0m\u001b[1;33m\u001b[0m\u001b[1;33m\u001b[0m\u001b[1;33m\u001b[0m\u001b[0m\n\u001b[1;32m----> 5\u001b[1;33m         \u001b[0mnumber\u001b[0m \u001b[1;33m=\u001b[0m \u001b[0mint\u001b[0m\u001b[1;33m(\u001b[0m\u001b[0mline\u001b[0m\u001b[1;33m)\u001b[0m\u001b[1;33m\u001b[0m\u001b[1;33m\u001b[0m\u001b[0m\n\u001b[0m\u001b[0;32m      6\u001b[0m         \u001b[0mtotal_month\u001b[0m \u001b[1;33m+=\u001b[0m \u001b[0mnumber\u001b[0m\u001b[1;33m\u001b[0m\u001b[1;33m\u001b[0m\u001b[0m\n\u001b[0;32m      7\u001b[0m         \u001b[0mtotal_month\u001b[0m \u001b[1;33m+=\u001b[0m \u001b[1;36m1\u001b[0m\u001b[1;33m\u001b[0m\u001b[1;33m\u001b[0m\u001b[0m\n",
      "\u001b[1;31mValueError\u001b[0m: invalid literal for int() with base 10: 'Date,Profit/Losses\\n'"
     ]
    }
   ],
   "source": [
    "# Counting total months\n",
    "with open(company_data, \"r\") as company_data:\n",
    "    for line in company_data:\n",
    "# Making str an int \n",
    "        number = int(line)\n",
    "        total_month += number \n",
    "        total_month += 1 \n",
    "    \n",
    "    \n",
    "print(total_month)\n",
    "    \n",
    "\n",
    "\n",
    "\n"
   ]
  },
  {
   "cell_type": "code",
   "execution_count": null,
   "id": "2a4d2531-6c47-4c01-a9ed-5dd3431189c2",
   "metadata": {},
   "outputs": [],
   "source": []
  }
 ],
 "metadata": {
  "kernelspec": {
   "display_name": "Python 3",
   "language": "python",
   "name": "python3"
  },
  "language_info": {
   "codemirror_mode": {
    "name": "ipython",
    "version": 3
   },
   "file_extension": ".py",
   "mimetype": "text/x-python",
   "name": "python",
   "nbconvert_exporter": "python",
   "pygments_lexer": "ipython3",
   "version": "3.8.8"
  }
 },
 "nbformat": 4,
 "nbformat_minor": 5
}
