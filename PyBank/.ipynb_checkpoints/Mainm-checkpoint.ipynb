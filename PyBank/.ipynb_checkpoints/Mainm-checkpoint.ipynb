{
 "cells": [
  {
   "cell_type": "code",
   "execution_count": 1,
   "id": "a68db05c-c0ff-45ac-8ba4-3fe32dded52d",
   "metadata": {},
   "outputs": [
    {
     "name": "stdout",
     "output_type": "stream",
     "text": [
      "Current Working Directory: C:\\Users\\xElio\\Desktop\\FinTech\\Week2\\Homework\\python-homework\\PyBank\n"
     ]
    }
   ],
   "source": [
    "# Importing the path \n",
    "import csv\n",
    "from pathlib import Path\n",
    "print(f\"Current Working Directory: {Path.cwd()}\")"
   ]
  },
  {
   "cell_type": "code",
   "execution_count": 2,
   "id": "1d9030a5-3bb7-41d9-b00e-e0e207a6a2c6",
   "metadata": {},
   "outputs": [],
   "source": [
    "# Setting the path using Pathlib\n",
    "company_data = Path(\"../Pybank/budget_data.csv\")"
   ]
  },
  {
   "cell_type": "code",
   "execution_count": 3,
   "id": "79818403-bb4c-4ab2-a4ec-84904fb8cc6b",
   "metadata": {},
   "outputs": [],
   "source": [
    "# Initialising variables\n",
    "net_total = 0\n",
    "Avg_change_pl = 0\n",
    "greatest_increase_profits = 0\n",
    "greatest_decrease_losses = 0\n",
    "count = 0\n",
    "PnL_list = []"
   ]
  },
  {
   "cell_type": "code",
   "execution_count": 11,
   "id": "05095874-551f-47cd-9b23-5b5b59c6aba0",
   "metadata": {},
   "outputs": [
    {
     "name": "stdout",
     "output_type": "stream",
     "text": [
      "Company Financial Analysis\n",
      "-------------------------------------\n",
      "Total Months:  86\n",
      "868487\n",
      "985259\n",
      "322618\n",
      "-68811\n",
      "311110\n",
      "523465\n",
      "1033705\n",
      "605495\n",
      "-215775\n",
      "478144\n",
      "894423\n",
      "-79739\n",
      "780421\n",
      "-334587\n",
      "698462\n",
      "793781\n",
      "485689\n",
      "584742\n",
      "63350\n",
      "668801\n",
      "900529\n",
      "835343\n",
      "132628\n",
      "310604\n",
      "-754939\n",
      "1171221\n",
      "253417\n",
      "1152148\n",
      "817887\n",
      "571389\n",
      "507335\n",
      "-1021900\n",
      "475697\n",
      "780612\n",
      "144812\n",
      "543132\n",
      "359972\n",
      "322109\n",
      "68421\n",
      "472077\n",
      "566246\n",
      "873124\n",
      "790125\n",
      "1000588\n",
      "-1195578\n",
      "269645\n",
      "-687337\n",
      "1151111\n",
      "683109\n",
      "618508\n",
      "824751\n",
      "582597\n",
      "133519\n",
      "448718\n",
      "689818\n",
      "801359\n",
      "1167302\n",
      "947993\n",
      "579329\n",
      "989167\n",
      "1140378\n",
      "1030135\n",
      "688198\n",
      "-523960\n",
      "159287\n",
      "88463\n",
      "424058\n",
      "841393\n",
      "569200\n",
      "332739\n",
      "990172\n",
      "778911\n",
      "650675\n",
      "-1099711\n",
      "-174269\n",
      "757821\n",
      "446388\n",
      "713641\n",
      "-1163116\n",
      "570581\n",
      "769133\n",
      "103369\n",
      "796599\n",
      "61674\n",
      "138917\n",
      "671787\n"
     ]
    }
   ],
   "source": [
    "# Just formattint the print section \n",
    "print(\"Company Financial Analysis\")\n",
    "print(\"-------------------------------------\")\n",
    "# Counting total months doing a with open file and saving it as\n",
    "with open(\"budget_data.csv\", \"r\") as company_data:\n",
    "    company_data_reader = csv.reader(company_data)\n",
    "   \n",
    "    \n",
    "    # When complete add this is to write it all to other file. \n",
    "    # with open('company_data_analysed.csv', 'w') as company_data_analysed:\n",
    "    #     company_data_writer = csv.writer(company_data_analysed)\n",
    "    \n",
    "    \n",
    "# Doing a for loop to loop through rows and calculate total by adding 1 every time we loop through a row\n",
    "    for line in company_data_reader:\n",
    "        print(\"Total Months: \", (sum(1 for row in company_data_reader)))\n",
    "        \n",
    "# The net total amount of Profit/Losses over the entire period\n",
    "# Doing for loop to loop through rows again  \n",
    "with open(\"budget_data.csv\", \"r\") as company_data:\n",
    "    company_data_reader = csv.DictReader(company_data)\n",
    "    \n",
    "    for row in company_data_reader:\n",
    "        number = int(row['Profit/Losses'])\n",
    "        count = count + 1\n",
    "        net_total = number + count\n",
    "        print(net_total)\n",
    "        \n",
    "\n",
    "        "
   ]
  },
  {
   "cell_type": "code",
   "execution_count": null,
   "id": "1aed2b29-bdd9-4391-ad3d-f1ff27d365a1",
   "metadata": {},
   "outputs": [],
   "source": []
  }
 ],
 "metadata": {
  "kernelspec": {
   "display_name": "Python 3",
   "language": "python",
   "name": "python3"
  },
  "language_info": {
   "codemirror_mode": {
    "name": "ipython",
    "version": 3
   },
   "file_extension": ".py",
   "mimetype": "text/x-python",
   "name": "python",
   "nbconvert_exporter": "python",
   "pygments_lexer": "ipython3",
   "version": "3.8.8"
  }
 },
 "nbformat": 4,
 "nbformat_minor": 5
}
