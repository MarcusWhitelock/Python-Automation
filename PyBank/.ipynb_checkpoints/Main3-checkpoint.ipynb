{
 "cells": [
  {
   "cell_type": "code",
   "execution_count": 1,
   "id": "0d03af3f-12e2-4d24-8b61-fd9067e552ed",
   "metadata": {},
   "outputs": [
    {
     "name": "stdout",
     "output_type": "stream",
     "text": [
      "Financial Analysis\n",
      "----------------------------\n",
      "Total Months: 86\n",
      "Total: $38382578\n",
      "Average Change: $446309.0465116279\n",
      "Greatest Increase in Profits: Feb-2012 ($1170593)\n",
      "Greatest Decrease in Profits: Sep-2013 ($-1196225)\n",
      "\n"
     ]
    }
   ],
   "source": [
    "import csv\n",
    "\n",
    "# declare variables\n",
    "month_count = 0\n",
    "total = 0\n",
    "greatest_inc_mon = None\n",
    "greatest_inc = None\n",
    "greatest_dec_mon = None\n",
    "greatest_dec = None\n",
    "\n",
    "# open the file containing the budget dataset\n",
    "with open(\"budget_data.csv\") as company_data:\n",
    "    company_data_reader = csv.reader(company_data)\n",
    "\n",
    "    # loop over every row in the budget dataset\n",
    "    # index represents the position, at which the row is located in the array\n",
    "    for index, row in enumerate(company_data_reader):\n",
    "        # The first row contains only the column headers, so skip it\n",
    "        if index == 0:\n",
    "            continue\n",
    "\n",
    "        val = int(row[1])\n",
    "        month = row[0]\n",
    "        month_count += 1\n",
    "        total += val\n",
    "\n",
    "        if val < 0:\n",
    "            # Val is considered a decrease.\n",
    "            # If the 'greatest_dec' hasn't been initialized with a real value yet or the current row\n",
    "            # contains a larger loss in profit than the saved one, set variables to current row's data\n",
    "            if (greatest_dec is None) or (val < greatest_dec):\n",
    "                greatest_dec = val\n",
    "                greatest_dec_mon = month\n",
    "        else:\n",
    "            # val is considered an increase\n",
    "            # If the 'greatest_inc' hasn't been initialized with a real value yet or the current row\n",
    "            # contains a larger profit than the saved one, set variables to current row's data\n",
    "            if (greatest_inc is None) or (val > greatest_inc):\n",
    "                greatest_inc = val\n",
    "                greatest_inc_mon = month\n",
    "\n",
    "# Calculate the average profit\n",
    "avg = total / month_count\n",
    "\n",
    "# Format the log.\n",
    "log = ''\n",
    "log += f'Financial Analysis\\n----------------------------\\n'\n",
    "log += f'Total Months: {month_count}\\n'\n",
    "log += f'Total: ${total}\\n'\n",
    "log += f'Average Change: ${avg}\\n'\n",
    "log += f'Greatest Increase in Profits: {greatest_inc_mon} (${greatest_inc})\\n'\n",
    "log += f'Greatest Decrease in Profits: {greatest_dec_mon} (${greatest_dec})\\n'\n",
    "\n",
    "print(log)\n",
    "\n",
    "# Print the log to a file. 'w' means overwrite the existing content from the file\n",
    "file = open(\"log.txt\", \"w\")\n",
    "file.write(log)\n",
    "file.close()\n"
   ]
  },
  {
   "cell_type": "code",
   "execution_count": null,
   "id": "5bdc5979-e9db-41e0-a1f8-405b2f12aaa9",
   "metadata": {},
   "outputs": [],
   "source": []
  }
 ],
 "metadata": {
  "kernelspec": {
   "display_name": "Python 3",
   "language": "python",
   "name": "python3"
  },
  "language_info": {
   "codemirror_mode": {
    "name": "ipython",
    "version": 3
   },
   "file_extension": ".py",
   "mimetype": "text/x-python",
   "name": "python",
   "nbconvert_exporter": "python",
   "pygments_lexer": "ipython3",
   "version": "3.8.8"
  }
 },
 "nbformat": 4,
 "nbformat_minor": 5
}
